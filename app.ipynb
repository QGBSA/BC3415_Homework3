{
 "cells": [
  {
   "cell_type": "code",
   "execution_count": 1,
   "metadata": {},
   "outputs": [
    {
     "name": "stderr",
     "output_type": "stream",
     "text": [
      "/Users/wrx/Desktop/Business/BC3415 AI in Accounting & Finance/Week_8/Homework/.venv/lib/python3.9/site-packages/tqdm/auto.py:21: TqdmWarning: IProgress not found. Please update jupyter and ipywidgets. See https://ipywidgets.readthedocs.io/en/stable/user_install.html\n",
      "  from .autonotebook import tqdm as notebook_tqdm\n",
      "/Users/wrx/Desktop/Business/BC3415 AI in Accounting & Finance/Week_8/Homework/.venv/lib/python3.9/site-packages/diffusers/pipelines/pipeline_loading_utils.py:219: FutureWarning: You are loading the variant fp16 from CompVis/stable-diffusion-v1-4 via `revision='fp16'` even though you can load it via `variant=`fp16`. Loading model variants via `revision='fp16'` is deprecated and will be removed in diffusers v1. Please use `variant='fp16'` instead.\n",
      "  warnings.warn(\n",
      "safety_checker/model.safetensors not found\n",
      "Fetching 16 files: 100%|██████████| 16/16 [04:03<00:00, 15.22s/it]\n",
      "{'requires_safety_checker'} was not found in config. Values will be initialized to default values.\n",
      "Loading pipeline components...:   0%|          | 0/7 [00:00<?, ?it/s]An error occurred while trying to fetch /Users/wrx/.cache/huggingface/hub/models--CompVis--stable-diffusion-v1-4/snapshots/2880f2ca379f41b0226444936bb7a6766a227587/vae: Error no file named diffusion_pytorch_model.safetensors found in directory /Users/wrx/.cache/huggingface/hub/models--CompVis--stable-diffusion-v1-4/snapshots/2880f2ca379f41b0226444936bb7a6766a227587/vae.\n",
      "Defaulting to unsafe serialization. Pass `allow_pickle=False` to raise an error instead.\n",
      "{'latents_mean', 'shift_factor', 'mid_block_add_attention', 'scaling_factor', 'force_upcast', 'use_quant_conv', 'use_post_quant_conv', 'norm_num_groups', 'latents_std'} was not found in config. Values will be initialized to default values.\n",
      "Loaded vae as AutoencoderKL from `vae` subfolder of CompVis/stable-diffusion-v1-4.\n",
      "Loading pipeline components...:  14%|█▍        | 1/7 [00:00<00:01,  5.48it/s]/Users/wrx/Desktop/Business/BC3415 AI in Accounting & Finance/Week_8/Homework/.venv/lib/python3.9/site-packages/transformers/models/clip/feature_extraction_clip.py:28: FutureWarning: The class CLIPFeatureExtractor is deprecated and will be removed in version 5 of Transformers. Please use CLIPImageProcessor instead.\n",
      "  warnings.warn(\n",
      "Loaded feature_extractor as CLIPFeatureExtractor from `feature_extractor` subfolder of CompVis/stable-diffusion-v1-4.\n",
      "An error occurred while trying to fetch /Users/wrx/.cache/huggingface/hub/models--CompVis--stable-diffusion-v1-4/snapshots/2880f2ca379f41b0226444936bb7a6766a227587/unet: Error no file named diffusion_pytorch_model.safetensors found in directory /Users/wrx/.cache/huggingface/hub/models--CompVis--stable-diffusion-v1-4/snapshots/2880f2ca379f41b0226444936bb7a6766a227587/unet.\n",
      "Defaulting to unsafe serialization. Pass `allow_pickle=False` to raise an error instead.\n",
      "{'resnet_out_scale_factor', 'num_class_embeds', 'num_attention_heads', 'time_cond_proj_dim', 'time_embedding_dim', 'transformer_layers_per_block', 'time_embedding_act_fn', 'dropout', 'use_linear_projection', 'conv_in_kernel', 'addition_embed_type_num_heads', 'addition_embed_type', 'reverse_transformer_layers_per_block', 'mid_block_type', 'resnet_time_scale_shift', 'projection_class_embeddings_input_dim', 'class_embed_type', 'timestep_post_act', 'mid_block_only_cross_attention', 'attention_type', 'conv_out_kernel', 'cross_attention_norm', 'class_embeddings_concat', 'encoder_hid_dim_type', 'upcast_attention', 'dual_cross_attention', 'resnet_skip_time_act', 'time_embedding_type', 'addition_time_embed_dim', 'encoder_hid_dim', 'only_cross_attention'} was not found in config. Values will be initialized to default values.\n",
      "Loaded unet as UNet2DConditionModel from `unet` subfolder of CompVis/stable-diffusion-v1-4.\n",
      "Loading pipeline components...:  43%|████▎     | 3/7 [00:01<00:01,  2.13it/s]Loaded tokenizer as CLIPTokenizer from `tokenizer` subfolder of CompVis/stable-diffusion-v1-4.\n",
      "Loaded text_encoder as CLIPTextModel from `text_encoder` subfolder of CompVis/stable-diffusion-v1-4.\n",
      "Loading pipeline components...:  71%|███████▏  | 5/7 [00:01<00:00,  3.26it/s]Loaded safety_checker as StableDiffusionSafetyChecker from `safety_checker` subfolder of CompVis/stable-diffusion-v1-4.\n",
      "Loading pipeline components...:  86%|████████▌ | 6/7 [00:01<00:00,  3.16it/s]{'timestep_spacing', 'prediction_type'} was not found in config. Values will be initialized to default values.\n",
      "Loaded scheduler as PNDMScheduler from `scheduler` subfolder of CompVis/stable-diffusion-v1-4.\n",
      "Loading pipeline components...: 100%|██████████| 7/7 [00:01<00:00,  3.52it/s]\n",
      "Pipelines loaded with `dtype=torch.float16` cannot run with `cpu` device. It is not recommended to move them to `cpu` as running them will fail. Please make sure to use an accelerator to run the pipeline in inference, due to the lack of support for`float16` operations on this device in PyTorch. Please, remove the `torch_dtype=torch.float16` argument, or use another device for inference.\n",
      "Pipelines loaded with `dtype=torch.float16` cannot run with `cpu` device. It is not recommended to move them to `cpu` as running them will fail. Please make sure to use an accelerator to run the pipeline in inference, due to the lack of support for`float16` operations on this device in PyTorch. Please, remove the `torch_dtype=torch.float16` argument, or use another device for inference.\n",
      "Pipelines loaded with `dtype=torch.float16` cannot run with `cpu` device. It is not recommended to move them to `cpu` as running them will fail. Please make sure to use an accelerator to run the pipeline in inference, due to the lack of support for`float16` operations on this device in PyTorch. Please, remove the `torch_dtype=torch.float16` argument, or use another device for inference.\n",
      "Pipelines loaded with `dtype=torch.float16` cannot run with `cpu` device. It is not recommended to move them to `cpu` as running them will fail. Please make sure to use an accelerator to run the pipeline in inference, due to the lack of support for`float16` operations on this device in PyTorch. Please, remove the `torch_dtype=torch.float16` argument, or use another device for inference.\n"
     ]
    }
   ],
   "source": [
    "# app.py\n",
    "from flask import Flask, render_template, request\n",
    "from sentiment_analysis import analyze_sentiment\n",
    "from image_video_generation import generate_image_from_prompt\n",
    "from image_video_generation import generate_video_from_prompts"
   ]
  },
  {
   "cell_type": "code",
   "execution_count": 2,
   "metadata": {},
   "outputs": [],
   "source": [
    "app = Flask(__name__)\n",
    "\n",
    "@app.route('/')\n",
    "def home():\n",
    "    return render_template('index.html')"
   ]
  },
  {
   "cell_type": "code",
   "execution_count": 3,
   "metadata": {},
   "outputs": [],
   "source": [
    "# Sentiment analysis route\n",
    "@app.route('/sentiment', methods=['GET', 'POST'])\n",
    "def sentiment():\n",
    "    if request.method == 'POST':\n",
    "        text_input = request.form['text']\n",
    "        sentiment_result = analyze_sentiment(text_input)\n",
    "        return render_template('sentiment.html', result=sentiment_result)\n",
    "    return render_template('sentiment.html')"
   ]
  },
  {
   "cell_type": "code",
   "execution_count": 4,
   "metadata": {},
   "outputs": [],
   "source": [
    "# Image generation route\n",
    "@app.route('/generate_image', methods=['GET', 'POST'])\n",
    "def generate_image():\n",
    "    if request.method == 'POST':\n",
    "        prompt = request.form['prompt']\n",
    "        image_path = generate_image_from_prompt(prompt)\n",
    "        return render_template('generate_image.html', image_path=image_path)\n",
    "    return render_template('generate_image.html')"
   ]
  },
  {
   "cell_type": "code",
   "execution_count": 5,
   "metadata": {},
   "outputs": [],
   "source": [
    "# Add this route to handle video generation\n",
    "@app.route('/generate_video', methods=['GET', 'POST'])\n",
    "def generate_video():\n",
    "    if request.method == 'POST':\n",
    "        prompt = request.form['prompt']\n",
    "        video_path = generate_video_from_prompts(prompt)  # Assuming you have a function for video generation\n",
    "        return render_template('generate_video.html', video_path=video_path)\n",
    "    return render_template('generate_video.html')\n"
   ]
  },
  {
   "cell_type": "code",
   "execution_count": 8,
   "metadata": {},
   "outputs": [
    {
     "name": "stdout",
     "output_type": "stream",
     "text": [
      " * Serving Flask app '__main__'\n",
      " * Debug mode: on\n"
     ]
    },
    {
     "name": "stderr",
     "output_type": "stream",
     "text": [
      "\u001b[31m\u001b[1mWARNING: This is a development server. Do not use it in a production deployment. Use a production WSGI server instead.\u001b[0m\n",
      " * Running on http://127.0.0.1:5000\n",
      "\u001b[33mPress CTRL+C to quit\u001b[0m\n",
      " * Restarting with stat\n",
      "Traceback (most recent call last):\n",
      "  File \"/Users/wrx/Desktop/Business/BC3415 AI in Accounting & Finance/Week_8/Homework/.venv/lib/python3.9/site-packages/ipykernel_launcher.py\", line 18, in <module>\n",
      "    app.launch_new_instance()\n",
      "  File \"/Users/wrx/Desktop/Business/BC3415 AI in Accounting & Finance/Week_8/Homework/.venv/lib/python3.9/site-packages/traitlets/config/application.py\", line 1074, in launch_instance\n",
      "    app.initialize(argv)\n",
      "  File \"/Users/wrx/Desktop/Business/BC3415 AI in Accounting & Finance/Week_8/Homework/.venv/lib/python3.9/site-packages/traitlets/config/application.py\", line 118, in inner\n",
      "    return method(app, *args, **kwargs)\n",
      "  File \"/Users/wrx/Desktop/Business/BC3415 AI in Accounting & Finance/Week_8/Homework/.venv/lib/python3.9/site-packages/ipykernel/kernelapp.py\", line 692, in initialize\n",
      "    self.init_sockets()\n",
      "  File \"/Users/wrx/Desktop/Business/BC3415 AI in Accounting & Finance/Week_8/Homework/.venv/lib/python3.9/site-packages/ipykernel/kernelapp.py\", line 331, in init_sockets\n",
      "    self.shell_port = self._bind_socket(self.shell_socket, self.shell_port)\n",
      "  File \"/Users/wrx/Desktop/Business/BC3415 AI in Accounting & Finance/Week_8/Homework/.venv/lib/python3.9/site-packages/ipykernel/kernelapp.py\", line 253, in _bind_socket\n",
      "    return self._try_bind_socket(s, port)\n",
      "  File \"/Users/wrx/Desktop/Business/BC3415 AI in Accounting & Finance/Week_8/Homework/.venv/lib/python3.9/site-packages/ipykernel/kernelapp.py\", line 229, in _try_bind_socket\n",
      "    s.bind(\"tcp://%s:%i\" % (self.ip, port))\n",
      "  File \"/Users/wrx/Desktop/Business/BC3415 AI in Accounting & Finance/Week_8/Homework/.venv/lib/python3.9/site-packages/zmq/sugar/socket.py\", line 311, in bind\n",
      "    super().bind(addr)\n",
      "  File \"_zmq.py\", line 917, in zmq.backend.cython._zmq.Socket.bind\n",
      "  File \"_zmq.py\", line 179, in zmq.backend.cython._zmq._check_rc\n",
      "zmq.error.ZMQError: Address already in use (addr='tcp://127.0.0.1:9015')\n"
     ]
    },
    {
     "ename": "SystemExit",
     "evalue": "1",
     "output_type": "error",
     "traceback": [
      "An exception has occurred, use %tb to see the full traceback.\n",
      "\u001b[0;31mSystemExit\u001b[0m\u001b[0;31m:\u001b[0m 1\n"
     ]
    }
   ],
   "source": [
    "if __name__ == \"__main__\":\n",
    "    app.run(debug=True)"
   ]
  },
  {
   "cell_type": "code",
   "execution_count": null,
   "metadata": {},
   "outputs": [],
   "source": []
  }
 ],
 "metadata": {
  "kernelspec": {
   "display_name": ".venv",
   "language": "python",
   "name": "python3"
  },
  "language_info": {
   "codemirror_mode": {
    "name": "ipython",
    "version": 3
   },
   "file_extension": ".py",
   "mimetype": "text/x-python",
   "name": "python",
   "nbconvert_exporter": "python",
   "pygments_lexer": "ipython3",
   "version": "3.9.19"
  }
 },
 "nbformat": 4,
 "nbformat_minor": 2
}
